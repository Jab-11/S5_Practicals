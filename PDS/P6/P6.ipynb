{
  "nbformat": 4,
  "nbformat_minor": 0,
  "metadata": {
    "colab": {
      "provenance": [],
      "authorship_tag": "ABX9TyNHhjEZIQetU/2m+ehqVGJl",
      "include_colab_link": true
    },
    "kernelspec": {
      "name": "python3",
      "display_name": "Python 3"
    },
    "language_info": {
      "name": "python"
    }
  },
  "cells": [
    {
      "cell_type": "markdown",
      "metadata": {
        "id": "view-in-github",
        "colab_type": "text"
      },
      "source": [
        "<a href=\"https://colab.research.google.com/github/Jab-11/S5_Practicals/blob/main/PDS/P6/P6.ipynb\" target=\"_parent\"><img src=\"https://colab.research.google.com/assets/colab-badge.svg\" alt=\"Open In Colab\"/></a>"
      ]
    },
    {
      "cell_type": "markdown",
      "source": [
        "Pract-6: Implement a method using XPath to fetch text description/content of any website home page."
      ],
      "metadata": {
        "id": "1FW6_GgHk5qz"
      }
    },
    {
      "cell_type": "code",
      "execution_count": 1,
      "metadata": {
        "id": "dRXMegc_kcbJ"
      },
      "outputs": [],
      "source": [
        "import pandas as pd\n",
        "from lxml import html\n",
        "import requests"
      ]
    },
    {
      "cell_type": "code",
      "source": [
        "response = requests.get(\"https://www.cricbuzz.com/\")"
      ],
      "metadata": {
        "id": "0gLsVcpxl0sq"
      },
      "execution_count": 39,
      "outputs": []
    },
    {
      "cell_type": "code",
      "source": [
        "tree = html.fromstring(response.content)"
      ],
      "metadata": {
        "id": "zhSjI4KemhC2"
      },
      "execution_count": 40,
      "outputs": []
    },
    {
      "cell_type": "code",
      "source": [
        "match_number = tree.xpath('//*[@id=\"match_menu_container\"]/div/div/ul/li[1]/a/div[1]/div[1]')[0].text_content()\n",
        "match_number"
      ],
      "metadata": {
        "colab": {
          "base_uri": "https://localhost:8080/",
          "height": 35
        },
        "id": "1T16DMujm1ew",
        "outputId": "b01007a4-ae5d-42f8-cf13-a5f746682ef4"
      },
      "execution_count": 47,
      "outputs": [
        {
          "output_type": "execute_result",
          "data": {
            "text/plain": [
              "'12th Match • ICC Cricket World Cup 2023'"
            ],
            "application/vnd.google.colaboratory.intrinsic+json": {
              "type": "string"
            }
          },
          "metadata": {},
          "execution_count": 47
        }
      ]
    },
    {
      "cell_type": "code",
      "source": [
        "toss_status = tree.xpath('//*[@id=\"match_menu_container\"]/div/div/ul/li[1]/a/div[2]/div[3]')[0].text_content()\n",
        "toss_status"
      ],
      "metadata": {
        "colab": {
          "base_uri": "https://localhost:8080/",
          "height": 35
        },
        "id": "R6sPfLaeoIuY",
        "outputId": "fbea790f-94d1-4dbb-90c6-3402bc860e31"
      },
      "execution_count": 46,
      "outputs": [
        {
          "output_type": "execute_result",
          "data": {
            "text/plain": [
              "'India opt to bowl'"
            ],
            "application/vnd.google.colaboratory.intrinsic+json": {
              "type": "string"
            }
          },
          "metadata": {},
          "execution_count": 46
        }
      ]
    },
    {
      "cell_type": "code",
      "source": [
        "blog_title = tree.xpath('//*[@id=\"page-wrapper\"]/div[6]/div[2]/div[3]/div[2]')[0].text_content()\n",
        "blog_title"
      ],
      "metadata": {
        "colab": {
          "base_uri": "https://localhost:8080/",
          "height": 35
        },
        "id": "-6UrOOGhyVMy",
        "outputId": "fc7b1584-2cbd-4e7f-9669-9a2e286126b4"
      },
      "execution_count": 58,
      "outputs": [
        {
          "output_type": "execute_result",
          "data": {
            "text/plain": [
              "'The opening batter had an extensive nets session on Thursday in Ahmedabad'"
            ],
            "application/vnd.google.colaboratory.intrinsic+json": {
              "type": "string"
            }
          },
          "metadata": {},
          "execution_count": 58
        }
      ]
    }
  ]
}