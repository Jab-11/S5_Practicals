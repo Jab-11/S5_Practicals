{
  "nbformat": 4,
  "nbformat_minor": 0,
  "metadata": {
    "colab": {
      "provenance": [],
      "authorship_tag": "ABX9TyMhUgJ8Dz3BYaRasyse/CR5",
      "include_colab_link": true
    },
    "kernelspec": {
      "name": "python3",
      "display_name": "Python 3"
    },
    "language_info": {
      "name": "python"
    }
  },
  "cells": [
    {
      "cell_type": "markdown",
      "metadata": {
        "id": "view-in-github",
        "colab_type": "text"
      },
      "source": [
        "<a href=\"https://colab.research.google.com/github/Jab-11/S5_Practicals/blob/main/PDS/P6/P6.ipynb\" target=\"_parent\"><img src=\"https://colab.research.google.com/assets/colab-badge.svg\" alt=\"Open In Colab\"/></a>"
      ]
    },
    {
      "cell_type": "markdown",
      "source": [
        "Pract-6: Implement a method using XPath to fetch text description/content of any website home page."
      ],
      "metadata": {
        "id": "1FW6_GgHk5qz"
      }
    },
    {
      "cell_type": "code",
      "execution_count": 1,
      "metadata": {
        "id": "dRXMegc_kcbJ"
      },
      "outputs": [],
      "source": [
        "import pandas as pd\n",
        "from lxml import html\n",
        "import requests"
      ]
    },
    {
      "cell_type": "code",
      "source": [
        "response = requests.get(\"https://docs.soliditylang.org/en/v0.8.20/introduction-to-smart-contracts.html\")"
      ],
      "metadata": {
        "id": "0gLsVcpxl0sq"
      },
      "execution_count": 15,
      "outputs": []
    },
    {
      "cell_type": "code",
      "source": [
        "tree = html.fromstring(response.content)"
      ],
      "metadata": {
        "id": "zhSjI4KemhC2"
      },
      "execution_count": 16,
      "outputs": []
    },
    {
      "cell_type": "code",
      "source": [
        "title = tree.xpath('//*[@id=\"a-simple-smart-contract\"]/p')[0]\n",
        "title"
      ],
      "metadata": {
        "colab": {
          "base_uri": "https://localhost:8080/"
        },
        "id": "1T16DMujm1ew",
        "outputId": "b7a13948-1251-4519-f2f5-5ca1ba869aef"
      },
      "execution_count": 23,
      "outputs": [
        {
          "output_type": "execute_result",
          "data": {
            "text/plain": [
              "<Element p at 0x7bf300a5dbc0>"
            ]
          },
          "metadata": {},
          "execution_count": 23
        }
      ]
    },
    {
      "cell_type": "code",
      "source": [],
      "metadata": {
        "colab": {
          "base_uri": "https://localhost:8080/"
        },
        "id": "R6sPfLaeoIuY",
        "outputId": "b87fc1b8-4eab-49b7-b68e-abebe617d6a4"
      },
      "execution_count": 14,
      "outputs": [
        {
          "output_type": "execute_result",
          "data": {
            "text/plain": [
              "[<Element p at 0x7bf300a28950>]"
            ]
          },
          "metadata": {},
          "execution_count": 14
        }
      ]
    }
  ]
}