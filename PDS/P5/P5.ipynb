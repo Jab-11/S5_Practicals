{
  "nbformat": 4,
  "nbformat_minor": 0,
  "metadata": {
    "colab": {
      "provenance": [],
      "authorship_tag": "ABX9TyMUSrLrS33F5E4OSTyS9u0n",
      "include_colab_link": true
    },
    "kernelspec": {
      "name": "python3",
      "display_name": "Python 3"
    },
    "language_info": {
      "name": "python"
    }
  },
  "cells": [
    {
      "cell_type": "markdown",
      "metadata": {
        "id": "view-in-github",
        "colab_type": "text"
      },
      "source": [
        "<a href=\"https://colab.research.google.com/github/Jab-11/S5_Practicals/blob/main/PDS/P5/P5.ipynb\" target=\"_parent\"><img src=\"https://colab.research.google.com/assets/colab-badge.svg\" alt=\"Open In Colab\"/></a>"
      ]
    },
    {
      "cell_type": "markdown",
      "source": [
        "Pract-5: Implement a method using regular expression to validate email id and mobile number from the given\n",
        "dataset. If email id and mobile number are not in the dataset then add this attributes and test it."
      ],
      "metadata": {
        "id": "W-CxAAc-fdVB"
      }
    },
    {
      "cell_type": "code",
      "execution_count": 62,
      "metadata": {
        "id": "u0tEYWQffEhS"
      },
      "outputs": [],
      "source": [
        "import pandas as pd\n",
        "import re"
      ]
    },
    {
      "cell_type": "code",
      "source": [
        "data = {\n",
        "    \"Name\": [\"ABC\", \"DEF\", \"GHI\", \"JKL\", \"MNO\", \"PQR\", \"STU\", \"VWX\", \"YZA\", \"BCD\"],\n",
        "    \"Enrollment No.\": [101, 102, 103, 104, 105, 106, 107, 108, 109, 110],\n",
        "    \"Branch\": [\"CS\", \"EE\", \"ME\", \"CE\", \"CS\", \"EE\", \"ME\", \"CE\", \"CS\", \"EE\"],\n",
        "    \"Semester\": [3, 4, 3, 4, 3, 4, 3, 4, 3, 4],\n",
        "    \"Email\": [\"abc@outlook.com\", \"def.email\", \"ghi@outlook.com\", \"jkl@google.com\", \"mno.com\", \"pqr@gtu.com\", \"stu@google.com\", \"vwx@yahoo.com\", \"yza@google.com\", \"bcd@google.com\"],\n",
        "    \"Phone\": [\"1234567890\", \"123456987\", \"2345678901\", \"3456789012\", \"4567890123\", \"58901234\", \"6789012345\", \"7890123456\", \"8901234567\", \"9012345678\"]\n",
        "}"
      ],
      "metadata": {
        "id": "HOb9QFEwkXyD"
      },
      "execution_count": 63,
      "outputs": []
    },
    {
      "cell_type": "code",
      "source": [
        "df = pd.DataFrame(data)"
      ],
      "metadata": {
        "id": "1HobISw6fwdy"
      },
      "execution_count": 64,
      "outputs": []
    },
    {
      "cell_type": "code",
      "source": [
        "df"
      ],
      "metadata": {
        "colab": {
          "base_uri": "https://localhost:8080/",
          "height": 363
        },
        "id": "2cqtDVO2f3UX",
        "outputId": "f41451a1-0f7e-4166-c744-c520bb0d2e30"
      },
      "execution_count": 65,
      "outputs": [
        {
          "output_type": "execute_result",
          "data": {
            "text/plain": [
              "  Name  Enrollment No. Branch  Semester            Email       Phone\n",
              "0  ABC             101     CS         3  abc@outlook.com  1234567890\n",
              "1  DEF             102     EE         4        def.email   123456987\n",
              "2  GHI             103     ME         3  ghi@outlook.com  2345678901\n",
              "3  JKL             104     CE         4   jkl@google.com  3456789012\n",
              "4  MNO             105     CS         3          mno.com  4567890123\n",
              "5  PQR             106     EE         4      pqr@gtu.com    58901234\n",
              "6  STU             107     ME         3   stu@google.com  6789012345\n",
              "7  VWX             108     CE         4    vwx@yahoo.com  7890123456\n",
              "8  YZA             109     CS         3   yza@google.com  8901234567\n",
              "9  BCD             110     EE         4   bcd@google.com  9012345678"
            ],
            "text/html": [
              "\n",
              "  <div id=\"df-b4955abd-9255-4222-abbd-6730dd0e204e\" class=\"colab-df-container\">\n",
              "    <div>\n",
              "<style scoped>\n",
              "    .dataframe tbody tr th:only-of-type {\n",
              "        vertical-align: middle;\n",
              "    }\n",
              "\n",
              "    .dataframe tbody tr th {\n",
              "        vertical-align: top;\n",
              "    }\n",
              "\n",
              "    .dataframe thead th {\n",
              "        text-align: right;\n",
              "    }\n",
              "</style>\n",
              "<table border=\"1\" class=\"dataframe\">\n",
              "  <thead>\n",
              "    <tr style=\"text-align: right;\">\n",
              "      <th></th>\n",
              "      <th>Name</th>\n",
              "      <th>Enrollment No.</th>\n",
              "      <th>Branch</th>\n",
              "      <th>Semester</th>\n",
              "      <th>Email</th>\n",
              "      <th>Phone</th>\n",
              "    </tr>\n",
              "  </thead>\n",
              "  <tbody>\n",
              "    <tr>\n",
              "      <th>0</th>\n",
              "      <td>ABC</td>\n",
              "      <td>101</td>\n",
              "      <td>CS</td>\n",
              "      <td>3</td>\n",
              "      <td>abc@outlook.com</td>\n",
              "      <td>1234567890</td>\n",
              "    </tr>\n",
              "    <tr>\n",
              "      <th>1</th>\n",
              "      <td>DEF</td>\n",
              "      <td>102</td>\n",
              "      <td>EE</td>\n",
              "      <td>4</td>\n",
              "      <td>def.email</td>\n",
              "      <td>123456987</td>\n",
              "    </tr>\n",
              "    <tr>\n",
              "      <th>2</th>\n",
              "      <td>GHI</td>\n",
              "      <td>103</td>\n",
              "      <td>ME</td>\n",
              "      <td>3</td>\n",
              "      <td>ghi@outlook.com</td>\n",
              "      <td>2345678901</td>\n",
              "    </tr>\n",
              "    <tr>\n",
              "      <th>3</th>\n",
              "      <td>JKL</td>\n",
              "      <td>104</td>\n",
              "      <td>CE</td>\n",
              "      <td>4</td>\n",
              "      <td>jkl@google.com</td>\n",
              "      <td>3456789012</td>\n",
              "    </tr>\n",
              "    <tr>\n",
              "      <th>4</th>\n",
              "      <td>MNO</td>\n",
              "      <td>105</td>\n",
              "      <td>CS</td>\n",
              "      <td>3</td>\n",
              "      <td>mno.com</td>\n",
              "      <td>4567890123</td>\n",
              "    </tr>\n",
              "    <tr>\n",
              "      <th>5</th>\n",
              "      <td>PQR</td>\n",
              "      <td>106</td>\n",
              "      <td>EE</td>\n",
              "      <td>4</td>\n",
              "      <td>pqr@gtu.com</td>\n",
              "      <td>58901234</td>\n",
              "    </tr>\n",
              "    <tr>\n",
              "      <th>6</th>\n",
              "      <td>STU</td>\n",
              "      <td>107</td>\n",
              "      <td>ME</td>\n",
              "      <td>3</td>\n",
              "      <td>stu@google.com</td>\n",
              "      <td>6789012345</td>\n",
              "    </tr>\n",
              "    <tr>\n",
              "      <th>7</th>\n",
              "      <td>VWX</td>\n",
              "      <td>108</td>\n",
              "      <td>CE</td>\n",
              "      <td>4</td>\n",
              "      <td>vwx@yahoo.com</td>\n",
              "      <td>7890123456</td>\n",
              "    </tr>\n",
              "    <tr>\n",
              "      <th>8</th>\n",
              "      <td>YZA</td>\n",
              "      <td>109</td>\n",
              "      <td>CS</td>\n",
              "      <td>3</td>\n",
              "      <td>yza@google.com</td>\n",
              "      <td>8901234567</td>\n",
              "    </tr>\n",
              "    <tr>\n",
              "      <th>9</th>\n",
              "      <td>BCD</td>\n",
              "      <td>110</td>\n",
              "      <td>EE</td>\n",
              "      <td>4</td>\n",
              "      <td>bcd@google.com</td>\n",
              "      <td>9012345678</td>\n",
              "    </tr>\n",
              "  </tbody>\n",
              "</table>\n",
              "</div>\n",
              "    <div class=\"colab-df-buttons\">\n",
              "\n",
              "  <div class=\"colab-df-container\">\n",
              "    <button class=\"colab-df-convert\" onclick=\"convertToInteractive('df-b4955abd-9255-4222-abbd-6730dd0e204e')\"\n",
              "            title=\"Convert this dataframe to an interactive table.\"\n",
              "            style=\"display:none;\">\n",
              "\n",
              "  <svg xmlns=\"http://www.w3.org/2000/svg\" height=\"24px\" viewBox=\"0 -960 960 960\">\n",
              "    <path d=\"M120-120v-720h720v720H120Zm60-500h600v-160H180v160Zm220 220h160v-160H400v160Zm0 220h160v-160H400v160ZM180-400h160v-160H180v160Zm440 0h160v-160H620v160ZM180-180h160v-160H180v160Zm440 0h160v-160H620v160Z\"/>\n",
              "  </svg>\n",
              "    </button>\n",
              "\n",
              "  <style>\n",
              "    .colab-df-container {\n",
              "      display:flex;\n",
              "      gap: 12px;\n",
              "    }\n",
              "\n",
              "    .colab-df-convert {\n",
              "      background-color: #E8F0FE;\n",
              "      border: none;\n",
              "      border-radius: 50%;\n",
              "      cursor: pointer;\n",
              "      display: none;\n",
              "      fill: #1967D2;\n",
              "      height: 32px;\n",
              "      padding: 0 0 0 0;\n",
              "      width: 32px;\n",
              "    }\n",
              "\n",
              "    .colab-df-convert:hover {\n",
              "      background-color: #E2EBFA;\n",
              "      box-shadow: 0px 1px 2px rgba(60, 64, 67, 0.3), 0px 1px 3px 1px rgba(60, 64, 67, 0.15);\n",
              "      fill: #174EA6;\n",
              "    }\n",
              "\n",
              "    .colab-df-buttons div {\n",
              "      margin-bottom: 4px;\n",
              "    }\n",
              "\n",
              "    [theme=dark] .colab-df-convert {\n",
              "      background-color: #3B4455;\n",
              "      fill: #D2E3FC;\n",
              "    }\n",
              "\n",
              "    [theme=dark] .colab-df-convert:hover {\n",
              "      background-color: #434B5C;\n",
              "      box-shadow: 0px 1px 3px 1px rgba(0, 0, 0, 0.15);\n",
              "      filter: drop-shadow(0px 1px 2px rgba(0, 0, 0, 0.3));\n",
              "      fill: #FFFFFF;\n",
              "    }\n",
              "  </style>\n",
              "\n",
              "    <script>\n",
              "      const buttonEl =\n",
              "        document.querySelector('#df-b4955abd-9255-4222-abbd-6730dd0e204e button.colab-df-convert');\n",
              "      buttonEl.style.display =\n",
              "        google.colab.kernel.accessAllowed ? 'block' : 'none';\n",
              "\n",
              "      async function convertToInteractive(key) {\n",
              "        const element = document.querySelector('#df-b4955abd-9255-4222-abbd-6730dd0e204e');\n",
              "        const dataTable =\n",
              "          await google.colab.kernel.invokeFunction('convertToInteractive',\n",
              "                                                    [key], {});\n",
              "        if (!dataTable) return;\n",
              "\n",
              "        const docLinkHtml = 'Like what you see? Visit the ' +\n",
              "          '<a target=\"_blank\" href=https://colab.research.google.com/notebooks/data_table.ipynb>data table notebook</a>'\n",
              "          + ' to learn more about interactive tables.';\n",
              "        element.innerHTML = '';\n",
              "        dataTable['output_type'] = 'display_data';\n",
              "        await google.colab.output.renderOutput(dataTable, element);\n",
              "        const docLink = document.createElement('div');\n",
              "        docLink.innerHTML = docLinkHtml;\n",
              "        element.appendChild(docLink);\n",
              "      }\n",
              "    </script>\n",
              "  </div>\n",
              "\n",
              "\n",
              "<div id=\"df-1c1b472c-0e1f-4c79-bea7-03ea7257f372\">\n",
              "  <button class=\"colab-df-quickchart\" onclick=\"quickchart('df-1c1b472c-0e1f-4c79-bea7-03ea7257f372')\"\n",
              "            title=\"Suggest charts.\"\n",
              "            style=\"display:none;\">\n",
              "\n",
              "<svg xmlns=\"http://www.w3.org/2000/svg\" height=\"24px\"viewBox=\"0 0 24 24\"\n",
              "     width=\"24px\">\n",
              "    <g>\n",
              "        <path d=\"M19 3H5c-1.1 0-2 .9-2 2v14c0 1.1.9 2 2 2h14c1.1 0 2-.9 2-2V5c0-1.1-.9-2-2-2zM9 17H7v-7h2v7zm4 0h-2V7h2v10zm4 0h-2v-4h2v4z\"/>\n",
              "    </g>\n",
              "</svg>\n",
              "  </button>\n",
              "\n",
              "<style>\n",
              "  .colab-df-quickchart {\n",
              "      --bg-color: #E8F0FE;\n",
              "      --fill-color: #1967D2;\n",
              "      --hover-bg-color: #E2EBFA;\n",
              "      --hover-fill-color: #174EA6;\n",
              "      --disabled-fill-color: #AAA;\n",
              "      --disabled-bg-color: #DDD;\n",
              "  }\n",
              "\n",
              "  [theme=dark] .colab-df-quickchart {\n",
              "      --bg-color: #3B4455;\n",
              "      --fill-color: #D2E3FC;\n",
              "      --hover-bg-color: #434B5C;\n",
              "      --hover-fill-color: #FFFFFF;\n",
              "      --disabled-bg-color: #3B4455;\n",
              "      --disabled-fill-color: #666;\n",
              "  }\n",
              "\n",
              "  .colab-df-quickchart {\n",
              "    background-color: var(--bg-color);\n",
              "    border: none;\n",
              "    border-radius: 50%;\n",
              "    cursor: pointer;\n",
              "    display: none;\n",
              "    fill: var(--fill-color);\n",
              "    height: 32px;\n",
              "    padding: 0;\n",
              "    width: 32px;\n",
              "  }\n",
              "\n",
              "  .colab-df-quickchart:hover {\n",
              "    background-color: var(--hover-bg-color);\n",
              "    box-shadow: 0 1px 2px rgba(60, 64, 67, 0.3), 0 1px 3px 1px rgba(60, 64, 67, 0.15);\n",
              "    fill: var(--button-hover-fill-color);\n",
              "  }\n",
              "\n",
              "  .colab-df-quickchart-complete:disabled,\n",
              "  .colab-df-quickchart-complete:disabled:hover {\n",
              "    background-color: var(--disabled-bg-color);\n",
              "    fill: var(--disabled-fill-color);\n",
              "    box-shadow: none;\n",
              "  }\n",
              "\n",
              "  .colab-df-spinner {\n",
              "    border: 2px solid var(--fill-color);\n",
              "    border-color: transparent;\n",
              "    border-bottom-color: var(--fill-color);\n",
              "    animation:\n",
              "      spin 1s steps(1) infinite;\n",
              "  }\n",
              "\n",
              "  @keyframes spin {\n",
              "    0% {\n",
              "      border-color: transparent;\n",
              "      border-bottom-color: var(--fill-color);\n",
              "      border-left-color: var(--fill-color);\n",
              "    }\n",
              "    20% {\n",
              "      border-color: transparent;\n",
              "      border-left-color: var(--fill-color);\n",
              "      border-top-color: var(--fill-color);\n",
              "    }\n",
              "    30% {\n",
              "      border-color: transparent;\n",
              "      border-left-color: var(--fill-color);\n",
              "      border-top-color: var(--fill-color);\n",
              "      border-right-color: var(--fill-color);\n",
              "    }\n",
              "    40% {\n",
              "      border-color: transparent;\n",
              "      border-right-color: var(--fill-color);\n",
              "      border-top-color: var(--fill-color);\n",
              "    }\n",
              "    60% {\n",
              "      border-color: transparent;\n",
              "      border-right-color: var(--fill-color);\n",
              "    }\n",
              "    80% {\n",
              "      border-color: transparent;\n",
              "      border-right-color: var(--fill-color);\n",
              "      border-bottom-color: var(--fill-color);\n",
              "    }\n",
              "    90% {\n",
              "      border-color: transparent;\n",
              "      border-bottom-color: var(--fill-color);\n",
              "    }\n",
              "  }\n",
              "</style>\n",
              "\n",
              "  <script>\n",
              "    async function quickchart(key) {\n",
              "      const quickchartButtonEl =\n",
              "        document.querySelector('#' + key + ' button');\n",
              "      quickchartButtonEl.disabled = true;  // To prevent multiple clicks.\n",
              "      quickchartButtonEl.classList.add('colab-df-spinner');\n",
              "      try {\n",
              "        const charts = await google.colab.kernel.invokeFunction(\n",
              "            'suggestCharts', [key], {});\n",
              "      } catch (error) {\n",
              "        console.error('Error during call to suggestCharts:', error);\n",
              "      }\n",
              "      quickchartButtonEl.classList.remove('colab-df-spinner');\n",
              "      quickchartButtonEl.classList.add('colab-df-quickchart-complete');\n",
              "    }\n",
              "    (() => {\n",
              "      let quickchartButtonEl =\n",
              "        document.querySelector('#df-1c1b472c-0e1f-4c79-bea7-03ea7257f372 button');\n",
              "      quickchartButtonEl.style.display =\n",
              "        google.colab.kernel.accessAllowed ? 'block' : 'none';\n",
              "    })();\n",
              "  </script>\n",
              "</div>\n",
              "    </div>\n",
              "  </div>\n"
            ]
          },
          "metadata": {},
          "execution_count": 65
        }
      ]
    },
    {
      "cell_type": "code",
      "source": [
        "def valid_email(email):\n",
        "  mail_pattern = r'^[\\w]+@[\\w]+\\.(?:in|com)$'\n",
        "  return re.match(mail_pattern, email)"
      ],
      "metadata": {
        "id": "DHeoyKCYlIwy"
      },
      "execution_count": 66,
      "outputs": []
    },
    {
      "cell_type": "code",
      "source": [
        "invalid_mail = []\n",
        "for mail in df['Email']:\n",
        "  if not valid_email(mail):\n",
        "    record = df.loc[df['Email'] == mail]\n",
        "    enr_no = record['Enrollment No.'].values[0]\n",
        "    invalid_mail.append((enr_no, mail))"
      ],
      "metadata": {
        "id": "MLQC2SyorP7A"
      },
      "execution_count": 67,
      "outputs": []
    },
    {
      "cell_type": "code",
      "source": [
        "invalid_mail"
      ],
      "metadata": {
        "colab": {
          "base_uri": "https://localhost:8080/"
        },
        "id": "9tdQC5wmsHp0",
        "outputId": "bf676860-7158-4ecf-ca2c-54aafcb66385"
      },
      "execution_count": 68,
      "outputs": [
        {
          "output_type": "execute_result",
          "data": {
            "text/plain": [
              "[(102, 'def.email'), (105, 'mno.com')]"
            ]
          },
          "metadata": {},
          "execution_count": 68
        }
      ]
    },
    {
      "cell_type": "code",
      "source": [
        "def valid_phone(phone):\n",
        "  phone_pattern = r'^[1-9]\\d{9}$'\n",
        "  return re.match(phone_pattern,phone)"
      ],
      "metadata": {
        "id": "tfuvMg6ZuKJ4"
      },
      "execution_count": 69,
      "outputs": []
    },
    {
      "cell_type": "code",
      "source": [
        "invalid_phone = []\n",
        "for phone in df['Phone']:\n",
        "  if not valid_phone(phone):\n",
        "    record = df.loc[df['Phone'] == phone]\n",
        "    enr_no = record['Enrollment No.'].values[0]\n",
        "    invalid_phone.append((enr_no, phone))"
      ],
      "metadata": {
        "id": "RMPwuHLzvb0b"
      },
      "execution_count": 70,
      "outputs": []
    },
    {
      "cell_type": "code",
      "source": [
        "invalid_phone"
      ],
      "metadata": {
        "colab": {
          "base_uri": "https://localhost:8080/"
        },
        "id": "SWecury9wCTd",
        "outputId": "1d88532f-7fc9-46e3-bfdf-8008bd74c4bb"
      },
      "execution_count": 71,
      "outputs": [
        {
          "output_type": "execute_result",
          "data": {
            "text/plain": [
              "[(102, '123456987'), (106, '58901234')]"
            ]
          },
          "metadata": {},
          "execution_count": 71
        }
      ]
    }
  ]
}