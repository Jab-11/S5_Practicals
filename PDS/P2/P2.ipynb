{
  "nbformat": 4,
  "nbformat_minor": 0,
  "metadata": {
    "colab": {
      "provenance": [],
      "authorship_tag": "ABX9TyN7n5Yve1MIz4jzrunzbFtH",
      "include_colab_link": true
    },
    "kernelspec": {
      "name": "python3",
      "display_name": "Python 3"
    },
    "language_info": {
      "name": "python"
    }
  },
  "cells": [
    {
      "cell_type": "markdown",
      "metadata": {
        "id": "view-in-github",
        "colab_type": "text"
      },
      "source": [
        "<a href=\"https://colab.research.google.com/github/Jab-11/S5_Practicals/blob/main/PDS/P2/P2.ipynb\" target=\"_parent\"><img src=\"https://colab.research.google.com/assets/colab-badge.svg\" alt=\"Open In Colab\"/></a>"
      ]
    },
    {
      "cell_type": "code",
      "execution_count": 34,
      "metadata": {
        "id": "ia0j5SUniKZn"
      },
      "outputs": [],
      "source": [
        "import pandas as pd"
      ]
    },
    {
      "cell_type": "code",
      "source": [
        "df = pd.read_csv(\"mca_gujarat_21042018.csv\", encoding=\"ISO-8859-1\")"
      ],
      "metadata": {
        "id": "skWCc_oHju5-"
      },
      "execution_count": 35,
      "outputs": []
    },
    {
      "cell_type": "code",
      "source": [
        "df.describe()"
      ],
      "metadata": {
        "colab": {
          "base_uri": "https://localhost:8080/",
          "height": 300
        },
        "id": "OmQzAqVVkkF0",
        "outputId": "408f6f64-8575-4b05-a8a5-db58e8e34fec"
      },
      "execution_count": 36,
      "outputs": [
        {
          "output_type": "execute_result",
          "data": {
            "text/plain": [
              "       AUTHORIZED_CAP  PAIDUP_CAPITAL\n",
              "count    9.582600e+04    9.582600e+04\n",
              "mean     6.320206e+07    2.986657e+07\n",
              "std      2.690387e+09    1.730888e+09\n",
              "min      0.000000e+00    0.000000e+00\n",
              "25%      1.000000e+05    1.000000e+05\n",
              "50%      5.000000e+05    1.000000e+05\n",
              "75%      2.500000e+06    1.000000e+06\n",
              "max      6.000000e+11    4.570000e+11"
            ],
            "text/html": [
              "\n",
              "  <div id=\"df-6c262736-ba5c-4c0e-bcdc-7e60dbde6a95\" class=\"colab-df-container\">\n",
              "    <div>\n",
              "<style scoped>\n",
              "    .dataframe tbody tr th:only-of-type {\n",
              "        vertical-align: middle;\n",
              "    }\n",
              "\n",
              "    .dataframe tbody tr th {\n",
              "        vertical-align: top;\n",
              "    }\n",
              "\n",
              "    .dataframe thead th {\n",
              "        text-align: right;\n",
              "    }\n",
              "</style>\n",
              "<table border=\"1\" class=\"dataframe\">\n",
              "  <thead>\n",
              "    <tr style=\"text-align: right;\">\n",
              "      <th></th>\n",
              "      <th>AUTHORIZED_CAP</th>\n",
              "      <th>PAIDUP_CAPITAL</th>\n",
              "    </tr>\n",
              "  </thead>\n",
              "  <tbody>\n",
              "    <tr>\n",
              "      <th>count</th>\n",
              "      <td>9.582600e+04</td>\n",
              "      <td>9.582600e+04</td>\n",
              "    </tr>\n",
              "    <tr>\n",
              "      <th>mean</th>\n",
              "      <td>6.320206e+07</td>\n",
              "      <td>2.986657e+07</td>\n",
              "    </tr>\n",
              "    <tr>\n",
              "      <th>std</th>\n",
              "      <td>2.690387e+09</td>\n",
              "      <td>1.730888e+09</td>\n",
              "    </tr>\n",
              "    <tr>\n",
              "      <th>min</th>\n",
              "      <td>0.000000e+00</td>\n",
              "      <td>0.000000e+00</td>\n",
              "    </tr>\n",
              "    <tr>\n",
              "      <th>25%</th>\n",
              "      <td>1.000000e+05</td>\n",
              "      <td>1.000000e+05</td>\n",
              "    </tr>\n",
              "    <tr>\n",
              "      <th>50%</th>\n",
              "      <td>5.000000e+05</td>\n",
              "      <td>1.000000e+05</td>\n",
              "    </tr>\n",
              "    <tr>\n",
              "      <th>75%</th>\n",
              "      <td>2.500000e+06</td>\n",
              "      <td>1.000000e+06</td>\n",
              "    </tr>\n",
              "    <tr>\n",
              "      <th>max</th>\n",
              "      <td>6.000000e+11</td>\n",
              "      <td>4.570000e+11</td>\n",
              "    </tr>\n",
              "  </tbody>\n",
              "</table>\n",
              "</div>\n",
              "    <div class=\"colab-df-buttons\">\n",
              "\n",
              "  <div class=\"colab-df-container\">\n",
              "    <button class=\"colab-df-convert\" onclick=\"convertToInteractive('df-6c262736-ba5c-4c0e-bcdc-7e60dbde6a95')\"\n",
              "            title=\"Convert this dataframe to an interactive table.\"\n",
              "            style=\"display:none;\">\n",
              "\n",
              "  <svg xmlns=\"http://www.w3.org/2000/svg\" height=\"24px\" viewBox=\"0 -960 960 960\">\n",
              "    <path d=\"M120-120v-720h720v720H120Zm60-500h600v-160H180v160Zm220 220h160v-160H400v160Zm0 220h160v-160H400v160ZM180-400h160v-160H180v160Zm440 0h160v-160H620v160ZM180-180h160v-160H180v160Zm440 0h160v-160H620v160Z\"/>\n",
              "  </svg>\n",
              "    </button>\n",
              "\n",
              "  <style>\n",
              "    .colab-df-container {\n",
              "      display:flex;\n",
              "      gap: 12px;\n",
              "    }\n",
              "\n",
              "    .colab-df-convert {\n",
              "      background-color: #E8F0FE;\n",
              "      border: none;\n",
              "      border-radius: 50%;\n",
              "      cursor: pointer;\n",
              "      display: none;\n",
              "      fill: #1967D2;\n",
              "      height: 32px;\n",
              "      padding: 0 0 0 0;\n",
              "      width: 32px;\n",
              "    }\n",
              "\n",
              "    .colab-df-convert:hover {\n",
              "      background-color: #E2EBFA;\n",
              "      box-shadow: 0px 1px 2px rgba(60, 64, 67, 0.3), 0px 1px 3px 1px rgba(60, 64, 67, 0.15);\n",
              "      fill: #174EA6;\n",
              "    }\n",
              "\n",
              "    .colab-df-buttons div {\n",
              "      margin-bottom: 4px;\n",
              "    }\n",
              "\n",
              "    [theme=dark] .colab-df-convert {\n",
              "      background-color: #3B4455;\n",
              "      fill: #D2E3FC;\n",
              "    }\n",
              "\n",
              "    [theme=dark] .colab-df-convert:hover {\n",
              "      background-color: #434B5C;\n",
              "      box-shadow: 0px 1px 3px 1px rgba(0, 0, 0, 0.15);\n",
              "      filter: drop-shadow(0px 1px 2px rgba(0, 0, 0, 0.3));\n",
              "      fill: #FFFFFF;\n",
              "    }\n",
              "  </style>\n",
              "\n",
              "    <script>\n",
              "      const buttonEl =\n",
              "        document.querySelector('#df-6c262736-ba5c-4c0e-bcdc-7e60dbde6a95 button.colab-df-convert');\n",
              "      buttonEl.style.display =\n",
              "        google.colab.kernel.accessAllowed ? 'block' : 'none';\n",
              "\n",
              "      async function convertToInteractive(key) {\n",
              "        const element = document.querySelector('#df-6c262736-ba5c-4c0e-bcdc-7e60dbde6a95');\n",
              "        const dataTable =\n",
              "          await google.colab.kernel.invokeFunction('convertToInteractive',\n",
              "                                                    [key], {});\n",
              "        if (!dataTable) return;\n",
              "\n",
              "        const docLinkHtml = 'Like what you see? Visit the ' +\n",
              "          '<a target=\"_blank\" href=https://colab.research.google.com/notebooks/data_table.ipynb>data table notebook</a>'\n",
              "          + ' to learn more about interactive tables.';\n",
              "        element.innerHTML = '';\n",
              "        dataTable['output_type'] = 'display_data';\n",
              "        await google.colab.output.renderOutput(dataTable, element);\n",
              "        const docLink = document.createElement('div');\n",
              "        docLink.innerHTML = docLinkHtml;\n",
              "        element.appendChild(docLink);\n",
              "      }\n",
              "    </script>\n",
              "  </div>\n",
              "\n",
              "\n",
              "<div id=\"df-909bbfdb-4ee1-4af9-8d3f-7634b02d079f\">\n",
              "  <button class=\"colab-df-quickchart\" onclick=\"quickchart('df-909bbfdb-4ee1-4af9-8d3f-7634b02d079f')\"\n",
              "            title=\"Suggest charts.\"\n",
              "            style=\"display:none;\">\n",
              "\n",
              "<svg xmlns=\"http://www.w3.org/2000/svg\" height=\"24px\"viewBox=\"0 0 24 24\"\n",
              "     width=\"24px\">\n",
              "    <g>\n",
              "        <path d=\"M19 3H5c-1.1 0-2 .9-2 2v14c0 1.1.9 2 2 2h14c1.1 0 2-.9 2-2V5c0-1.1-.9-2-2-2zM9 17H7v-7h2v7zm4 0h-2V7h2v10zm4 0h-2v-4h2v4z\"/>\n",
              "    </g>\n",
              "</svg>\n",
              "  </button>\n",
              "\n",
              "<style>\n",
              "  .colab-df-quickchart {\n",
              "      --bg-color: #E8F0FE;\n",
              "      --fill-color: #1967D2;\n",
              "      --hover-bg-color: #E2EBFA;\n",
              "      --hover-fill-color: #174EA6;\n",
              "      --disabled-fill-color: #AAA;\n",
              "      --disabled-bg-color: #DDD;\n",
              "  }\n",
              "\n",
              "  [theme=dark] .colab-df-quickchart {\n",
              "      --bg-color: #3B4455;\n",
              "      --fill-color: #D2E3FC;\n",
              "      --hover-bg-color: #434B5C;\n",
              "      --hover-fill-color: #FFFFFF;\n",
              "      --disabled-bg-color: #3B4455;\n",
              "      --disabled-fill-color: #666;\n",
              "  }\n",
              "\n",
              "  .colab-df-quickchart {\n",
              "    background-color: var(--bg-color);\n",
              "    border: none;\n",
              "    border-radius: 50%;\n",
              "    cursor: pointer;\n",
              "    display: none;\n",
              "    fill: var(--fill-color);\n",
              "    height: 32px;\n",
              "    padding: 0;\n",
              "    width: 32px;\n",
              "  }\n",
              "\n",
              "  .colab-df-quickchart:hover {\n",
              "    background-color: var(--hover-bg-color);\n",
              "    box-shadow: 0 1px 2px rgba(60, 64, 67, 0.3), 0 1px 3px 1px rgba(60, 64, 67, 0.15);\n",
              "    fill: var(--button-hover-fill-color);\n",
              "  }\n",
              "\n",
              "  .colab-df-quickchart-complete:disabled,\n",
              "  .colab-df-quickchart-complete:disabled:hover {\n",
              "    background-color: var(--disabled-bg-color);\n",
              "    fill: var(--disabled-fill-color);\n",
              "    box-shadow: none;\n",
              "  }\n",
              "\n",
              "  .colab-df-spinner {\n",
              "    border: 2px solid var(--fill-color);\n",
              "    border-color: transparent;\n",
              "    border-bottom-color: var(--fill-color);\n",
              "    animation:\n",
              "      spin 1s steps(1) infinite;\n",
              "  }\n",
              "\n",
              "  @keyframes spin {\n",
              "    0% {\n",
              "      border-color: transparent;\n",
              "      border-bottom-color: var(--fill-color);\n",
              "      border-left-color: var(--fill-color);\n",
              "    }\n",
              "    20% {\n",
              "      border-color: transparent;\n",
              "      border-left-color: var(--fill-color);\n",
              "      border-top-color: var(--fill-color);\n",
              "    }\n",
              "    30% {\n",
              "      border-color: transparent;\n",
              "      border-left-color: var(--fill-color);\n",
              "      border-top-color: var(--fill-color);\n",
              "      border-right-color: var(--fill-color);\n",
              "    }\n",
              "    40% {\n",
              "      border-color: transparent;\n",
              "      border-right-color: var(--fill-color);\n",
              "      border-top-color: var(--fill-color);\n",
              "    }\n",
              "    60% {\n",
              "      border-color: transparent;\n",
              "      border-right-color: var(--fill-color);\n",
              "    }\n",
              "    80% {\n",
              "      border-color: transparent;\n",
              "      border-right-color: var(--fill-color);\n",
              "      border-bottom-color: var(--fill-color);\n",
              "    }\n",
              "    90% {\n",
              "      border-color: transparent;\n",
              "      border-bottom-color: var(--fill-color);\n",
              "    }\n",
              "  }\n",
              "</style>\n",
              "\n",
              "  <script>\n",
              "    async function quickchart(key) {\n",
              "      const quickchartButtonEl =\n",
              "        document.querySelector('#' + key + ' button');\n",
              "      quickchartButtonEl.disabled = true;  // To prevent multiple clicks.\n",
              "      quickchartButtonEl.classList.add('colab-df-spinner');\n",
              "      try {\n",
              "        const charts = await google.colab.kernel.invokeFunction(\n",
              "            'suggestCharts', [key], {});\n",
              "      } catch (error) {\n",
              "        console.error('Error during call to suggestCharts:', error);\n",
              "      }\n",
              "      quickchartButtonEl.classList.remove('colab-df-spinner');\n",
              "      quickchartButtonEl.classList.add('colab-df-quickchart-complete');\n",
              "    }\n",
              "    (() => {\n",
              "      let quickchartButtonEl =\n",
              "        document.querySelector('#df-909bbfdb-4ee1-4af9-8d3f-7634b02d079f button');\n",
              "      quickchartButtonEl.style.display =\n",
              "        google.colab.kernel.accessAllowed ? 'block' : 'none';\n",
              "    })();\n",
              "  </script>\n",
              "</div>\n",
              "    </div>\n",
              "  </div>\n"
            ]
          },
          "metadata": {},
          "execution_count": 36
        }
      ]
    },
    {
      "cell_type": "code",
      "source": [
        "df.info()"
      ],
      "metadata": {
        "colab": {
          "base_uri": "https://localhost:8080/"
        },
        "id": "DM3Yfcdip8GB",
        "outputId": "e6b0676f-3ab3-4b7b-9f3e-c2dbe8c76da4"
      },
      "execution_count": 37,
      "outputs": [
        {
          "output_type": "stream",
          "name": "stdout",
          "text": [
            "<class 'pandas.core.frame.DataFrame'>\n",
            "RangeIndex: 95826 entries, 0 to 95825\n",
            "Data columns (total 16 columns):\n",
            " #   Column                                  Non-Null Count  Dtype  \n",
            "---  ------                                  --------------  -----  \n",
            " 0   CORPORATE_IDENTIFICATION_NUMBER         95826 non-null  object \n",
            " 1   COMPANY_NAME                            95826 non-null  object \n",
            " 2   COMPANY_STATUS                          95826 non-null  object \n",
            " 3   COMPANY_CLASS                           95820 non-null  object \n",
            " 4   COMPANY_CATEGORY                        95820 non-null  object \n",
            " 5   COMPANY_SUB_CATEGORY                    95820 non-null  object \n",
            " 6   DATE_OF_REGISTRATION                    95814 non-null  object \n",
            " 7   REGISTERED_STATE                        95826 non-null  object \n",
            " 8   AUTHORIZED_CAP                          95826 non-null  float64\n",
            " 9   PAIDUP_CAPITAL                          95826 non-null  float64\n",
            " 10  INDUSTRIAL_CLASS                        95826 non-null  object \n",
            " 11  PRINCIPAL_BUSINESS_ACTIVITY_AS_PER_CIN  95826 non-null  object \n",
            " 12  REGISTRAR_OF_COMPANIES                  95491 non-null  object \n",
            " 13  EMAIL_ADDR                              72238 non-null  object \n",
            " 14  LATEST_YEAR_ANNUAL_RETURN               55908 non-null  object \n",
            " 15  LATEST_YEAR_FINANCIAL_STATEMENT         55898 non-null  object \n",
            "dtypes: float64(2), object(14)\n",
            "memory usage: 11.7+ MB\n"
          ]
        }
      ]
    },
    {
      "cell_type": "code",
      "source": [
        "df.isna().sum()"
      ],
      "metadata": {
        "colab": {
          "base_uri": "https://localhost:8080/"
        },
        "id": "sGUw0iSBqCtg",
        "outputId": "eec961b4-ff03-4ac8-dea6-3b7adc9ecc3b"
      },
      "execution_count": 44,
      "outputs": [
        {
          "output_type": "execute_result",
          "data": {
            "text/plain": [
              "CORPORATE_IDENTIFICATION_NUMBER               0\n",
              "COMPANY_NAME                                  0\n",
              "COMPANY_STATUS                                0\n",
              "COMPANY_CLASS                                 6\n",
              "COMPANY_CATEGORY                              6\n",
              "COMPANY_SUB_CATEGORY                          6\n",
              "DATE_OF_REGISTRATION                         12\n",
              "REGISTERED_STATE                              0\n",
              "AUTHORIZED_CAP                                0\n",
              "PAIDUP_CAPITAL                                0\n",
              "INDUSTRIAL_CLASS                              0\n",
              "PRINCIPAL_BUSINESS_ACTIVITY_AS_PER_CIN        0\n",
              "REGISTRAR_OF_COMPANIES                      335\n",
              "EMAIL_ADDR                                23588\n",
              "LATEST_YEAR_ANNUAL_RETURN                 39918\n",
              "LATEST_YEAR_FINANCIAL_STATEMENT           39928\n",
              "dtype: int64"
            ]
          },
          "metadata": {},
          "execution_count": 44
        }
      ]
    },
    {
      "cell_type": "code",
      "source": [
        "total_rows = len(df)\n",
        "missing_values_count = total_rows - df.count()\n",
        "print(missing_values_count)"
      ],
      "metadata": {
        "colab": {
          "base_uri": "https://localhost:8080/"
        },
        "id": "4M_RCYQVwW7Z",
        "outputId": "fc24d773-8bb8-4206-c558-0c99c9e2b62f"
      },
      "execution_count": 45,
      "outputs": [
        {
          "output_type": "stream",
          "name": "stdout",
          "text": [
            "CORPORATE_IDENTIFICATION_NUMBER               0\n",
            "COMPANY_NAME                                  0\n",
            "COMPANY_STATUS                                0\n",
            "COMPANY_CLASS                                 6\n",
            "COMPANY_CATEGORY                              6\n",
            "COMPANY_SUB_CATEGORY                          6\n",
            "DATE_OF_REGISTRATION                         12\n",
            "REGISTERED_STATE                              0\n",
            "AUTHORIZED_CAP                                0\n",
            "PAIDUP_CAPITAL                                0\n",
            "INDUSTRIAL_CLASS                              0\n",
            "PRINCIPAL_BUSINESS_ACTIVITY_AS_PER_CIN        0\n",
            "REGISTRAR_OF_COMPANIES                      335\n",
            "EMAIL_ADDR                                23588\n",
            "LATEST_YEAR_ANNUAL_RETURN                 39918\n",
            "LATEST_YEAR_FINANCIAL_STATEMENT           39928\n",
            "dtype: int64\n"
          ]
        }
      ]
    },
    {
      "cell_type": "code",
      "source": [
        "columns_to_fill = ['COMPANY_CLASS', 'COMPANY_CATEGORY', 'COMPANY_SUB_CATEGORY', 'DATE_OF_REGISTRATION','LATEST_YEAR_ANNUAL_RETURN','LATEST_YEAR_FINANCIAL_STATEMENT']"
      ],
      "metadata": {
        "id": "dliX63zAyNET"
      },
      "execution_count": 49,
      "outputs": []
    },
    {
      "cell_type": "code",
      "source": [
        "modes = df[columns_to_fill].mode().iloc[0]\n",
        "\n",
        "for column in columns_to_fill:\n",
        "    df[column].fillna(modes[column], inplace=True)"
      ],
      "metadata": {
        "id": "J0qV2XZJzk2h"
      },
      "execution_count": 50,
      "outputs": []
    },
    {
      "cell_type": "code",
      "source": [
        "df.drop(['EMAIL_ADDR'],axis=1,inplace=True)"
      ],
      "metadata": {
        "id": "eQblcNXw10jY"
      },
      "execution_count": 52,
      "outputs": []
    },
    {
      "cell_type": "code",
      "source": [
        "df.dropna(subset=['REGISTRAR_OF_COMPANIES'],inplace=True)"
      ],
      "metadata": {
        "id": "RTKLdVjLzsIr"
      },
      "execution_count": 56,
      "outputs": []
    },
    {
      "cell_type": "code",
      "source": [
        "df.isna().sum()"
      ],
      "metadata": {
        "colab": {
          "base_uri": "https://localhost:8080/"
        },
        "id": "AoDapy9t26Ha",
        "outputId": "950c2431-802b-4db6-e70f-d593e6bee07e"
      },
      "execution_count": 57,
      "outputs": [
        {
          "output_type": "execute_result",
          "data": {
            "text/plain": [
              "CORPORATE_IDENTIFICATION_NUMBER           0\n",
              "COMPANY_NAME                              0\n",
              "COMPANY_STATUS                            0\n",
              "COMPANY_CLASS                             0\n",
              "COMPANY_CATEGORY                          0\n",
              "COMPANY_SUB_CATEGORY                      0\n",
              "DATE_OF_REGISTRATION                      0\n",
              "REGISTERED_STATE                          0\n",
              "AUTHORIZED_CAP                            0\n",
              "PAIDUP_CAPITAL                            0\n",
              "INDUSTRIAL_CLASS                          0\n",
              "PRINCIPAL_BUSINESS_ACTIVITY_AS_PER_CIN    0\n",
              "REGISTRAR_OF_COMPANIES                    0\n",
              "LATEST_YEAR_ANNUAL_RETURN                 0\n",
              "LATEST_YEAR_FINANCIAL_STATEMENT           0\n",
              "dtype: int64"
            ]
          },
          "metadata": {},
          "execution_count": 57
        }
      ]
    },
    {
      "cell_type": "code",
      "source": [
        "df['COMPANY_CLASS'].unique()"
      ],
      "metadata": {
        "colab": {
          "base_uri": "https://localhost:8080/"
        },
        "id": "4w0BO_hY327l",
        "outputId": "48394df4-2cc9-43d8-8245-d9e2dbc5641c"
      },
      "execution_count": 62,
      "outputs": [
        {
          "output_type": "execute_result",
          "data": {
            "text/plain": [
              "array(['Private', 'Public', 'Private(One Person Company)'], dtype=object)"
            ]
          },
          "metadata": {},
          "execution_count": 62
        }
      ]
    },
    {
      "cell_type": "code",
      "source": [
        "statistics = df.groupby('REGISTRAR_OF_COMPANIES')['COMPANY_CLASS'].value_counts()\n",
        "statistics"
      ],
      "metadata": {
        "colab": {
          "base_uri": "https://localhost:8080/"
        },
        "id": "aNGkOOGH4-1z",
        "outputId": "df3cb783-8d04-4322-dc18-940c6c3d4f93"
      },
      "execution_count": 66,
      "outputs": [
        {
          "output_type": "execute_result",
          "data": {
            "text/plain": [
              "REGISTRAR_OF_COMPANIES  COMPANY_CLASS              \n",
              "RoC-Ahmedabad           Private                        86338\n",
              "                        Public                          8592\n",
              "                        Private(One Person Company)      539\n",
              "RoC-Bangalore           Private                            1\n",
              "RoC-Delhi               Private                            1\n",
              "RoC-Goa                 Private                            6\n",
              "                        Public                             1\n",
              "RoC-Gwalior             Private                            3\n",
              "RoC-Jaipur              Private                            4\n",
              "                        Public                             1\n",
              "RoC-Jammu               Private                            1\n",
              "RoC-Kolkata             Public                             2\n",
              "RoC-Mumbai              Public                             2\n",
              "Name: COMPANY_CLASS, dtype: int64"
            ]
          },
          "metadata": {},
          "execution_count": 66
        }
      ]
    }
  ]
}